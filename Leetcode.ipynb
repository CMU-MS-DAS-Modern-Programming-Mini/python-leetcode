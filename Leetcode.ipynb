{
  "nbformat": 4,
  "nbformat_minor": 0,
  "metadata": {
    "colab": {
      "provenance": [],
      "authorship_tag": "ABX9TyNqKfz4t9ne+Hzj6YFR+zPc",
      "include_colab_link": true
    },
    "kernelspec": {
      "name": "python3",
      "display_name": "Python 3"
    },
    "language_info": {
      "name": "python"
    }
  },
  "cells": [
    {
      "cell_type": "markdown",
      "metadata": {
        "id": "view-in-github",
        "colab_type": "text"
      },
      "source": [
        "<a href=\"https://colab.research.google.com/github/CMU-MS-DAS-Modern-Programming-Mini/python-leetcode/blob/main/Leetcode.ipynb\" target=\"_parent\"><img src=\"https://colab.research.google.com/assets/colab-badge.svg\" alt=\"Open In Colab\"/></a>"
      ]
    },
    {
      "cell_type": "markdown",
      "source": [
        "<img src=\"https://external-content.duckduckgo.com/iu/?u=https%3A%2F%2Fcdn-images-1.medium.com%2Fmax%2F1600%2F0*GePc7lo4CF4A3guP.png&f=1&nofb=1\" width=\"50%\" />\n",
        "\n",
        "Name:\n",
        "\n",
        "Andrew ID:\n",
        "\n",
        "Use any library in Python Standard Library or any other library in PyPI to solve these LeetCode problems.\n",
        "\n",
        "Unlike Leetcode, our testing is limited so make "
      ],
      "metadata": {
        "id": "br3zmBgGvqi6"
      }
    },
    {
      "cell_type": "markdown",
      "source": [
        "## Container With Most Water\n",
        "Solve the Leetcode problem described [here](https://leetcode.com/problems/container-with-most-water/)."
      ],
      "metadata": {
        "id": "0rEeYXq-vuIP"
      }
    },
    {
      "cell_type": "code",
      "source": [
        "# INSERT CODE HERE\n",
        "def maxArea(height):\n",
        "  \"\"\"\n",
        "  :type height: list[int]\n",
        "  :rtype: int\n",
        "  \"\"\"\n",
        "  raise NotImplementedError()\n",
        "\n",
        "height = [1,8,6,2,5,4,8,3,7]\n",
        "assert maxArea(height) == 49\n",
        "\n",
        "height = [1,1]\n",
        "assert maxArea(height) == 1"
      ],
      "metadata": {
        "id": "cMRgbcLGvuRm"
      },
      "execution_count": null,
      "outputs": []
    },
    {
      "cell_type": "markdown",
      "source": [
        "## Reverse Integer\n",
        "Solve the Leetcode problem described [here](https://leetcode.com/problems/reverse-integer/)."
      ],
      "metadata": {
        "id": "SnUDycLFvuYm"
      }
    },
    {
      "cell_type": "code",
      "source": [
        "# INSERT CODE HERE\n",
        "def reverse(x):\n",
        "  \"\"\"\n",
        "  :type x: int\n",
        "  :rtype: int\n",
        "  \"\"\"\n",
        "  raise NotImplementedError()\n",
        "\n",
        "x = 123\n",
        "assert reverse(123) == 321\n",
        "\n",
        "x = -123\n",
        "assert reverse(height) == -321\n",
        "\n",
        "x = 120\n",
        "assert reverse(height) == 21"
      ],
      "metadata": {
        "id": "Wp15mhB1vuee"
      },
      "execution_count": null,
      "outputs": []
    }
  ]
}